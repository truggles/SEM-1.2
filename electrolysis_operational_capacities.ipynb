{
 "cells": [
  {
   "cell_type": "code",
   "execution_count": 31,
   "metadata": {},
   "outputs": [],
   "source": [
    "import numpy as np\n",
    "import pandas as pd\n",
    "import matplotlib.pyplot as plt\n",
    "\n",
    "# Based on common color blindness\n",
    "# https://www.nature.com/articles/nmeth.1618/figures/2\n",
    "# Skip black and reserve it for other specific lines\n",
    "def color_list():\n",
    "    l = [\n",
    "            np.array([230, 159, 0]), # orange\n",
    "            np.array([86, 180, 233]), # Sky blue\n",
    "            np.array([0, 158, 115]), # Bluish green\n",
    "            np.array([240, 228, 66]), # Yellow\n",
    "            np.array([0, 114, 178]), # Blue\n",
    "            np.array([213, 94, 0]), # Vermillion\n",
    "            np.array([204, 121, 167]), # Reddish purple\n",
    "    ]\n",
    "    return [i/255. for i in l]"
   ]
  },
  {
   "cell_type": "code",
   "execution_count": 38,
   "metadata": {},
   "outputs": [
    {
     "name": "stdout",
     "output_type": "stream",
     "text": [
      "0.05 [98.9, 0.8, 0.3, 1.1, 99.4]\n",
      "0.15 [94.7, 5.0, 0.3, 5.3, 97.7]\n",
      "0.3 [69.4, 30.4, 0.2, 30.6, 90.6]\n",
      "0.4 [42.5, 57.5, 0.0, 57.5, 89.0]\n"
     ]
    }
   ],
   "source": [
    "\n",
    "# Flexible load fraction, % of hours operating a full capacity, \n",
    "#    % of hours operating between full and zero capacity, % of hours operating a zero capacity\n",
    "#    Average flexible load capacity factor\n",
    "vals = {\n",
    "    0.05 : [\n",
    "        98.9,\n",
    "        0.8,\n",
    "        0.3,\n",
    "        1.1,\n",
    "        99.4],\n",
    "    0.15 : [\n",
    "        94.7,\n",
    "        5.0,\n",
    "        0.3,\n",
    "        5.3,\n",
    "        97.7],\n",
    "    0.30 : [\n",
    "        69.4,\n",
    "        30.4,\n",
    "        0.2,\n",
    "        30.6,\n",
    "        90.6],\n",
    "    0.40 : [\n",
    "        42.5,\n",
    "        57.5,\n",
    "        0.0,\n",
    "        57.5,\n",
    "        89.0]\n",
    "}\n",
    "labels = ['full capacity', \n",
    "        'between full and zero capacity',\n",
    "        'zero capacity',\n",
    "        'less than full capacity',\n",
    "        'average capacity factor (%)']\n",
    "for k, v in vals.items():\n",
    "    print(k, v)"
   ]
  },
  {
   "cell_type": "code",
   "execution_count": 39,
   "metadata": {},
   "outputs": [
    {
     "data": {
      "image/png": "[encoded data removed]",
      "text/plain": [
       "<Figure size 432x288 with 2 Axes>"
      ]
     },
     "metadata": {
      "needs_background": "light"
     },
     "output_type": "display_data"
    }
   ],
   "source": [
    "fix, ax = plt.subplots()\n",
    "ax2 = ax.twinx()\n",
    "ax2.set_ylabel(labels[-1])\n",
    "N = 4\n",
    "width = 0.35\n",
    "colors = color_list()\n",
    "ind = np.arange(N)\n",
    "tot = np.zeros(4)\n",
    "for i in range(5):\n",
    "    if i == 1 or i == 2:\n",
    "        continue\n",
    "    to_plot = []\n",
    "    for k, v in vals.items():\n",
    "        to_plot.append(v[i])\n",
    "    \n",
    "    if i == 4:\n",
    "        ax2.plot(to_plot, 'k--', linewidth=2, label='average\\ncapacity factor')\n",
    "    else:\n",
    "        c = colors[1] if i == 0 else colors[0]\n",
    "        ax.bar(ind, to_plot, width, color=c, bottom=tot, label=labels[i])\n",
    "        tot += to_plot\n",
    "ax.set_ylabel('percent of annual operation (%)')\n",
    "ax.set_xlabel('flexible load fraction')\n",
    "ax.set_ylim(0, 100)\n",
    "ax2.set_ylim(0, 100)\n",
    "plt.xticks(ind, (vals.keys()))\n",
    "ax.legend(loc='lower left', framealpha=1)\n",
    "ax2.legend(loc='lower right', framealpha=1)\n",
    "\n",
    "\n",
    "ax2.plot()\n",
    "plt.savefig('electrolysis_operational_capacity.png')"
   ]
  },
  {
   "cell_type": "code",
   "execution_count": null,
   "metadata": {},
   "outputs": [],
   "source": []
  }
 ],
 "metadata": {
  "kernelspec": {
   "display_name": "Python 3",
   "language": "python",
   "name": "python3"
  },
  "language_info": {
   "codemirror_mode": {
    "name": "ipython",
    "version": 3
   },
   "file_extension": ".py",
   "mimetype": "text/x-python",
   "name": "python",
   "nbconvert_exporter": "python",
   "pygments_lexer": "ipython3",
   "version": "3.7.4"
  }
 },
 "nbformat": 4,
 "nbformat_minor": 2
}

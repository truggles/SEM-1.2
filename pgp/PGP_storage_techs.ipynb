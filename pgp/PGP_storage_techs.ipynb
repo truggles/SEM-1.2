{
 "cells": [
  {
   "cell_type": "code",
   "execution_count": 1,
   "metadata": {},
   "outputs": [],
   "source": [
    "import pandas as pd\n",
    "import numpy as np\n",
    "import matplotlib.pyplot as plt"
   ]
  },
  {
   "cell_type": "markdown",
   "metadata": {},
   "source": [
    "# Values from storage technologies table in PGP paper\n",
    "Currently, table 1 in the Intro (this will likely change?)\n",
    "\n",
    "I am taking the min and max values for each tech regardless of the sources."
   ]
  },
  {
   "cell_type": "code",
   "execution_count": 2,
   "metadata": {},
   "outputs": [],
   "source": [
    "techs = {\n",
    "    'flywheel' : {\n",
    "        'cap_div_power' : [250,350],\n",
    "        'cap_div_energy' : [1000,5000],\n",
    "    },\n",
    "    'capacitor' : {\n",
    "        'cap_div_power' : [200,400],\n",
    "        'cap_div_energy' : [500,1000],\n",
    "    },\n",
    "    'lead-acid battery' : {\n",
    "        'cap_div_power' : [200,600],\n",
    "        'cap_div_energy' : [50,400],\n",
    "    },\n",
    "    'Li-ion battery' : {\n",
    "        'cap_div_power' : [280,1874],\n",
    "        'cap_div_energy' : [225,513],\n",
    "    },\n",
    "    'redox flow (V)' : {\n",
    "        'cap_div_power' : [1027,1956],\n",
    "        'cap_div_energy' : [447,4620],\n",
    "    },\n",
    "    'pumped\\nhydropower' : {\n",
    "        'cap_div_power' : [975,4300],\n",
    "        'cap_div_energy' : [5,100],\n",
    "    },\n",
    "    'compressed air' : {\n",
    "        'cap_div_power' : [650,1000],\n",
    "        'cap_div_energy' : [2,50],\n",
    "    },\n",
    "    #'PGP' : {\n",
    "    #    'cap_div_power' : [6500,6600],\n",
    "    #    'cap_div_energy' : [5.6,8.8],\n",
    "    #},\n",
    "    'PGP' : { # These ranges are based on 1-yr and 6-yr runs and 4,600-10,000 $/kW fuel cell range from Davis et al ref 132.\n",
    "        'cap_div_power' : [5300,11000],\n",
    "        'cap_div_energy' : [4.6,14],\n",
    "    },\n",
    "}"
   ]
  },
  {
   "cell_type": "code",
   "execution_count": 3,
   "metadata": {},
   "outputs": [
    {
     "data": {
      "image/png": "[encoded data removed]",
      "text/plain": [
       "<Figure size 432x288 with 1 Axes>"
      ]
     },
     "metadata": {
      "needs_background": "light"
     },
     "output_type": "display_data"
    }
   ],
   "source": [
    "def get_maxes(techs):\n",
    "    Mx, My = 0, 0\n",
    "    for tech, tab in techs.items():\n",
    "        x = tab['cap_div_energy']\n",
    "        y = tab['cap_div_power']\n",
    "        if x[1] > Mx:\n",
    "            Mx = x[1]\n",
    "        if y[1] > My:\n",
    "            My = y[1]\n",
    "    return Mx, My\n",
    "\n",
    "def add_star(ax, cords):\n",
    "    \n",
    "    ax.scatter(cords[0], cords[1], color='black', marker='*')\n",
    "\n",
    "fig, ax = plt.subplots()#figsize=(10,10))\n",
    "\n",
    "Mx, My = get_maxes(techs)\n",
    "\n",
    "pgp_baseline_value = [8.8, 6500]\n",
    "liIon_baseline_value = [261, 1566]\n",
    "\n",
    "for tech, tab in techs.items():\n",
    "    xs = np.linspace(tab['cap_div_energy'][0], tab['cap_div_energy'][1], 100)\n",
    "    top = np.ones(100) * tab['cap_div_power'][1]\n",
    "    bottom = np.ones(100) * tab['cap_div_power'][0]\n",
    "    #print(tech, tab)\n",
    "    \n",
    "    alpha=0.6\n",
    "    if tech in ['PGP', 'redox flow']:\n",
    "        color = 'pink' if tech == 'PGP' else 'purple'\n",
    "        ax.fill_between(xs, bottom, top, label=tech, alpha=alpha, color=color)\n",
    "    else:\n",
    "        ax.fill_between(xs, bottom, top, label=tech, alpha=alpha)\n",
    "\n",
    "ax.set_xlim(1, Mx*2)\n",
    "ax.set_ylim(100, My*2)\n",
    "ax.set_xlabel('Total capital cost / energy capacity ($/kWh)')\n",
    "ax.set_ylabel('Total capital cost / power capacity ($/kW)')\n",
    "plt.yscale('log')\n",
    "plt.xscale('log')\n",
    "\n",
    "add_star(ax, pgp_baseline_value)\n",
    "add_star(ax, liIon_baseline_value)\n",
    "\n",
    "# Shrink current axis by 20%\n",
    "box = ax.get_position()\n",
    "ax.set_position([box.x0, box.y0, box.width * 0.7, box.height])\n",
    "\n",
    "# Put a legend to the right of the current axis\n",
    "ax.legend(loc='center left', bbox_to_anchor=(1, 0.5))\n",
    "\n",
    "#plt.legend(ncol=2)\n",
    "\n",
    "plt.savefig('storage_techs.pdf')"
   ]
  },
  {
   "cell_type": "code",
   "execution_count": null,
   "metadata": {},
   "outputs": [],
   "source": []
  }
 ],
 "metadata": {
  "kernelspec": {
   "display_name": "Python 3",
   "language": "python",
   "name": "python3"
  },
  "language_info": {
   "codemirror_mode": {
    "name": "ipython",
    "version": 3
   },
   "file_extension": ".py",
   "mimetype": "text/x-python",
   "name": "python",
   "nbconvert_exporter": "python",
   "pygments_lexer": "ipython3",
   "version": "3.7.4"
  }
 },
 "nbformat": 4,
 "nbformat_minor": 2
}

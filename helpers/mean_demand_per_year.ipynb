{
 "cells": [
  {
   "cell_type": "code",
   "execution_count": 1,
   "metadata": {},
   "outputs": [],
   "source": [
    "import pandas as pd\n",
    "import numpy as np"
   ]
  },
  {
   "cell_type": "code",
   "execution_count": 2,
   "metadata": {},
   "outputs": [
    {
     "name": "stdout",
     "output_type": "stream",
     "text": [
      "8784\n",
      "2015 8 1 1\n",
      "2016 7 31 24\n",
      "450871.7137978142\n",
      "8760\n",
      "2016 8 1 1\n",
      "2017 7 31 24\n",
      "454499.97511415527\n",
      "8760\n",
      "2017 8 1 1\n",
      "2018 7 31 24\n",
      "462237.8401826484\n",
      "8760\n",
      "2018 8 1 1\n",
      "2019 7 31 24\n",
      "460429.39121004567\n",
      "0.9865691781281578\n",
      "0.9945083117560926\n",
      "1.0114398223110286\n",
      "1.0074826878047212\n"
     ]
    }
   ],
   "source": [
    "def get_mean(name):\n",
    "    df = pd.read_csv(name)\n",
    "    print(len(df.index))\n",
    "    l = len(df.index)\n",
    "    print(df.loc[0, 'year'], df.loc[0, 'month'], df.loc[0, 'day'], df.loc[0, 'hour'])\n",
    "    \n",
    "    # not sure why this was necessary\n",
    "    print(df.loc[l-1, 'year'], df.loc[l-1, 'month'], df.loc[l-1, 'day'], df.loc[l-1, 'hour'])\n",
    "    \n",
    "    print(np.mean(df['demand (MW)']))\n",
    "    return np.mean(df['demand (MW)'])\n",
    "\n",
    "vals = []\n",
    "for i in range(1, 5):\n",
    "    nm = f'dem{i}.csv'\n",
    "    vals.append(get_mean(nm))\n",
    "\n",
    "for v in vals:\n",
    "    print(v/np.mean(vals))"
   ]
  },
  {
   "cell_type": "code",
   "execution_count": null,
   "metadata": {},
   "outputs": [],
   "source": [
    "\n"
   ]
  }
 ],
 "metadata": {
  "kernelspec": {
   "display_name": "Python 3",
   "language": "python",
   "name": "python3"
  },
  "language_info": {
   "codemirror_mode": {
    "name": "ipython",
    "version": 3
   },
   "file_extension": ".py",
   "mimetype": "text/x-python",
   "name": "python",
   "nbconvert_exporter": "python",
   "pygments_lexer": "ipython3",
   "version": "3.7.4"
  }
 },
 "nbformat": 4,
 "nbformat_minor": 2
}

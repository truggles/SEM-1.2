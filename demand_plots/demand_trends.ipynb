{
 "cells": [
  {
   "cell_type": "code",
   "execution_count": null,
   "metadata": {},
   "outputs": [],
   "source": [
    "import pandas as pd\n",
    "import numpy as np\n",
    "\n",
    "from datetime import datetime, timedelta\n",
    "\n",
    "import matplotlib\n",
    "import matplotlib.pyplot as plt\n",
    "import matplotlib.dates as mdates"
   ]
  },
  {
   "cell_type": "code",
   "execution_count": null,
   "metadata": {},
   "outputs": [],
   "source": [
    "def add_date_time(df):\n",
    "    dts = []\n",
    "    for idx in df.index:\n",
    "        dts.append( datetime(\n",
    "            df.loc[idx, 'year'],\n",
    "            df.loc[idx, 'month'],\n",
    "            df.loc[idx, 'day'],\n",
    "            df.loc[idx, 'hour']-1, \n",
    "            0 # minutes\n",
    "        ))\n",
    "    df['date_time'] = dts\n",
    "    return df"
   ]
  },
  {
   "cell_type": "code",
   "execution_count": null,
   "metadata": {},
   "outputs": [],
   "source": [
    "demands = {\n",
    "    'ERCOT' : ['../Input_Data/ReliabilityPaper/ERCOT_mem_1998-2019.csv', 0, 2003],\n",
    "    'PJM' : ['../Input_Data/ReliabilityPaper/PJM_mem_1993-2019.csv', 0, 2006],\n",
    "    'NYISO' : ['../Input_Data/ReliabilityPaper/NYISO_demand_unnormalized.csv', 5, 2004],\n",
    "}\n",
    "\n",
    "dfs = {}\n",
    "for k, v in demands.items():\n",
    "    print(k, v)\n",
    "    df = pd.read_csv(v[0], header=v[1])\n",
    "    print(len(df.index))\n",
    "    df = df[ (df['year'] >= v[2]) & (df['year'] <= 2019) ]\n",
    "    df = df.reset_index()\n",
    "    df = add_date_time(df)\n",
    "    print(len(df.index))\n",
    "    dfs[k] = df.reset_index()\n",
    "    print(dfs[k].head())\n",
    "    print(dfs[k].tail())"
   ]
  },
  {
   "cell_type": "code",
   "execution_count": null,
   "metadata": {},
   "outputs": [],
   "source": [
    "def fit(k, v):\n",
    "    matplotlib.rcParams.update({'font.size': 20})\n",
    "    plt.close()\n",
    "    fix, ax = plt.subplots(figsize=(15,5))\n",
    "    print(k, v)\n",
    "    x = v.index\n",
    "    y = v['demand (MW)']\n",
    "    dt = v['date_time']\n",
    "    coef = np.polyfit(x, y, 1)\n",
    "    poly1d_fn = np.poly1d(coef) \n",
    "    # poly1d_fn is now a function which takes in x and returns an estimate for y\n",
    "    print(coef)\n",
    "    print(f\"Delta 1 year: {coef[0]*8760}\")\n",
    "    print(f\"Delta 1 year as % yr 1: {coef[0]*8760/coef[1]}\")\n",
    "    \n",
    "    ax.plot(dt,y, 'y.')\n",
    "    ax.plot(dt, poly1d_fn(x), '--k')\n",
    "    \n",
    "    ax.set_ylabel('load (MW)')\n",
    "    ax.yaxis.set_major_formatter(matplotlib.ticker.StrMethodFormatter('{x:,.0f}'))\n",
    "    ax.xaxis.set_major_locator(mdates.YearLocator())\n",
    "    ax.xaxis.set_major_formatter(mdates.DateFormatter('%Y'))\n",
    "    ax.xaxis.set_minor_locator(mdates.MonthLocator())\n",
    "    plt.setp( ax.xaxis.get_majorticklabels(), rotation=45 )\n",
    "    \n",
    "    ax.set_ylim(0, ax.get_ylim()[1])\n",
    "    plt.tight_layout()\n",
    "    plt.savefig(f'raw_demand_{k}.pdf')\n",
    "    plt.savefig(f'raw_demand_{k}.png')\n",
    "\n",
    "for k, v in dfs.items():\n",
    "    print(f\"\\n\\n{k}\")\n",
    "    fit(k, v)\n",
    "    \n",
    "    print(f\"Mean 2019 demand: {np.mean(v.loc[ (v['year']==2019), 'demand (MW)'])}\")"
   ]
  },
  {
   "cell_type": "code",
   "execution_count": null,
   "metadata": {},
   "outputs": [],
   "source": []
  }
 ],
 "metadata": {
  "kernelspec": {
   "display_name": "Python 3",
   "language": "python",
   "name": "python3"
  },
  "language_info": {
   "codemirror_mode": {
    "name": "ipython",
    "version": 3
   },
   "file_extension": ".py",
   "mimetype": "text/x-python",
   "name": "python",
   "nbconvert_exporter": "python",
   "pygments_lexer": "ipython3",
   "version": "3.7.4"
  }
 },
 "nbformat": 4,
 "nbformat_minor": 2
}

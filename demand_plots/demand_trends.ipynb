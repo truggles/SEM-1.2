{
 "cells": [
  {
   "cell_type": "code",
   "execution_count": null,
   "metadata": {},
   "outputs": [],
   "source": [
    "import pandas as pd\n",
    "import numpy as np\n",
    "import matplotlib.pyplot as plt"
   ]
  },
  {
   "cell_type": "code",
   "execution_count": null,
   "metadata": {},
   "outputs": [],
   "source": [
    "demands = {\n",
    "    'ERCOT' : ['../Input_Data/ReliabilityPaper/ERCOT_mem_1998-2019.csv', 0, 2003],\n",
    "    'PJM' : ['../Input_Data/ReliabilityPaper/PJM_mem_1993-2019.csv', 0, 2006],\n",
    "    'NYISO' : ['../Input_Data/ReliabilityPaper/NYISO_demand_unnormalized.csv', 5, 2004],\n",
    "}\n",
    "\n",
    "dfs = {}\n",
    "for k, v in demands.items():\n",
    "    print(k, v)\n",
    "    df = pd.read_csv(v[0], header=v[1])\n",
    "    print(len(df.index))\n",
    "    df = df[ (df['year'] >= v[2]) & (df['year'] <= 2019) ]\n",
    "    print(len(df.index))\n",
    "    dfs[k] = df.reset_index()\n",
    "    print(dfs[k].head())\n",
    "    print(dfs[k].tail())"
   ]
  },
  {
   "cell_type": "code",
   "execution_count": null,
   "metadata": {},
   "outputs": [],
   "source": [
    "def fit(k, v):\n",
    "    plt.close()\n",
    "    fix, ax = plt.subplots(figsize=(20,5))\n",
    "    print(k, v)\n",
    "    x = v.index\n",
    "    y = v['demand (MW)']\n",
    "    coef = np.polyfit(x, y, 1)\n",
    "    poly1d_fn = np.poly1d(coef) \n",
    "    # poly1d_fn is now a function which takes in x and returns an estimate for y\n",
    "    print(coef)\n",
    "    print(f\"Delta 1 year: {coef[0]*8760}\")\n",
    "    print(f\"Delta 1 year as % yr 1: {coef[0]*8760/coef[1]}\")\n",
    "    \n",
    "    ax.plot(x,y, 'yo', x, poly1d_fn(x), '--k')\n",
    "    ax.set_ylim(0, ax.get_ylim()[1])\n",
    "    plt.show()\n",
    "\n",
    "for k, v in dfs.items():\n",
    "    fit(k, v)"
   ]
  },
  {
   "cell_type": "code",
   "execution_count": null,
   "metadata": {},
   "outputs": [],
   "source": []
  }
 ],
 "metadata": {
  "kernelspec": {
   "display_name": "Python 3",
   "language": "python",
   "name": "python3"
  },
  "language_info": {
   "codemirror_mode": {
    "name": "ipython",
    "version": 3
   },
   "file_extension": ".py",
   "mimetype": "text/x-python",
   "name": "python",
   "nbconvert_exporter": "python",
   "pygments_lexer": "ipython3",
   "version": "3.7.4"
  }
 },
 "nbformat": 4,
 "nbformat_minor": 2
}
